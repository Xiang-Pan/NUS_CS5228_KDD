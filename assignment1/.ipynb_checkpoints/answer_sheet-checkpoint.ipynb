{
 "cells": [
  {
   "cell_type": "markdown",
   "metadata": {},
   "source": [
    "#### Assignment 1  - XIANG PAN (E0509875)\n",
    "This answer sheet contains your answer to questions in Section 1~4. Sentences in <span style=\"color:blue\">blue</span> indicates questions to be answered. \n",
    "\n",
    "For open questions, please organize your answer into \"points\" to ease our grading efforts. For example, an answer to \"What is the most popular item? Explain you answer and describe any assumptions you’ve made.\" should look like:\n",
    "\n",
    "> The most popular item ID is 12345. The reason is that:\n",
    "> - reason 1\n",
    "> - reason 2\n",
    "> \n",
    "> I've made the following assumptions:\n",
    "> - assumption 1\n",
    "> - assumption 2\n",
    "\n",
    "If you wish to type math equations in markdown, follow this link: https://jupyter-notebook.readthedocs.io/en/stable/examples/Notebook/Working%20With%20Markdown%20Cells.html#LaTeX-equations\n",
    "\n",
    "Remember to save this Jupyter notebook as __YourNameInLumiNUS_YourNUSNETID.ipynb__."
   ]
  },
  {
   "cell_type": "markdown",
   "metadata": {},
   "source": [
    "**Import all libraries and load data here**"
   ]
  },
  {
   "cell_type": "code",
   "execution_count": 1,
   "metadata": {},
   "outputs": [],
   "source": [
    "# This is a code cell\n",
    "# -- Import all libraries and load data in this cell --\n",
    "\n",
    "import joblib\n",
    "import pandas as pd\n",
    "import numpy as np\n",
    "record = pd.read_csv(\"./record.csv\")\n",
    "\n",
    "X = joblib.load('assignment1.data')"
   ]
  },
  {
   "cell_type": "code",
   "execution_count": 2,
   "metadata": {},
   "outputs": [
    {
     "data": {
      "text/plain": [
       "array([[-7.89974146e+00,  6.10186662e+00],\n",
       "       [-4.50351686e-01,  9.86593888e-01],\n",
       "       [-8.66107299e+00,  5.46637644e+00],\n",
       "       [-1.11271680e+00,  1.06159679e+00],\n",
       "       [ 7.17196896e+00, -4.80656905e+00],\n",
       "       [ 7.92220024e+00, -5.05961257e+00],\n",
       "       [ 5.69166147e+00,  6.54414857e+00],\n",
       "       [-5.63101724e-01,  4.77585985e-01],\n",
       "       [ 3.07612560e+00,  8.30446331e+00],\n",
       "       [ 7.82458722e+00, -5.68003479e+00],\n",
       "       [ 8.38103105e+00, -5.31252932e+00],\n",
       "       [ 6.15993797e+00, -4.82219188e+00],\n",
       "       [-9.61274364e-01,  3.07167553e-01],\n",
       "       [-7.73525025e+00,  5.08669037e+00],\n",
       "       [ 5.80564749e+00, -4.92468325e+00],\n",
       "       [ 6.36812570e+00, -4.96120496e+00],\n",
       "       [-1.26150519e+00,  5.12918221e-01],\n",
       "       [ 4.75340306e+00,  7.26663737e+00],\n",
       "       [ 7.71871582e+00, -4.62866061e+00],\n",
       "       [ 5.36102366e+00,  6.31461630e+00],\n",
       "       [-9.49817641e+00,  5.44879873e+00],\n",
       "       [ 7.20974465e+00, -4.90570698e+00],\n",
       "       [-1.36917959e+00, -6.69042028e-01],\n",
       "       [ 4.30251695e+00,  6.88026895e+00],\n",
       "       [ 7.17459972e+00, -4.56417302e+00],\n",
       "       [ 7.07647947e+00, -2.93082638e+00],\n",
       "       [-9.38986466e+00,  4.01610565e+00],\n",
       "       [ 5.67000030e+00,  6.14953734e+00],\n",
       "       [-7.15602394e+00,  5.85556235e+00],\n",
       "       [ 4.27169784e+00,  6.68829621e+00],\n",
       "       [-7.25623881e+00,  5.69896994e+00],\n",
       "       [ 4.17048126e+00,  6.10054947e+00],\n",
       "       [-5.53530209e-01, -1.50982742e-02],\n",
       "       [ 7.33388053e+00, -4.32655710e+00],\n",
       "       [-8.23098087e+00,  4.34018990e+00],\n",
       "       [ 1.13440051e+00,  1.08898723e+00],\n",
       "       [-1.83479026e+00,  1.43284505e+00],\n",
       "       [ 5.79700587e+00,  6.93729317e+00],\n",
       "       [-7.95860376e+00,  5.76539649e+00],\n",
       "       [ 4.65965471e+00,  7.33346417e+00],\n",
       "       [ 8.47963703e+00, -3.93301465e+00],\n",
       "       [-8.87014202e+00,  5.97308945e+00],\n",
       "       [ 7.45181194e+00, -4.35116979e+00],\n",
       "       [-6.26840599e-01,  1.18780537e+00],\n",
       "       [-8.35338006e+00,  4.93080903e+00],\n",
       "       [ 5.18303555e+00,  6.56025198e+00],\n",
       "       [ 7.46129273e+00, -4.81783020e+00],\n",
       "       [-1.11397919e+00,  4.72256004e-02],\n",
       "       [-8.55509236e+00,  5.85087227e+00],\n",
       "       [-2.49742600e+00,  3.77356328e-01],\n",
       "       [-7.97295065e+00,  4.93685554e+00],\n",
       "       [ 6.83516421e+00, -4.47838819e+00],\n",
       "       [ 7.46700819e+00, -4.87061478e+00],\n",
       "       [ 7.26962137e+00, -3.51176556e+00],\n",
       "       [ 1.95886868e-01,  1.56633265e+00],\n",
       "       [ 5.11112347e+00,  6.88084125e+00],\n",
       "       [ 4.38342894e+00,  7.14113584e+00],\n",
       "       [-6.90630921e+00,  6.57410857e+00],\n",
       "       [-8.19481423e-01,  1.60464578e+00],\n",
       "       [ 8.96036873e+00, -4.46017312e+00],\n",
       "       [-7.29754945e+00,  6.04391968e+00],\n",
       "       [-9.26669031e+00,  4.50682747e+00],\n",
       "       [ 5.98806348e+00, -3.87824084e+00],\n",
       "       [ 3.76902632e+00,  7.52555122e+00],\n",
       "       [-1.61278632e+00, -1.96253994e-02],\n",
       "       [-1.96339155e+00,  1.16783453e+00],\n",
       "       [ 3.51832269e+00,  6.48485260e+00],\n",
       "       [-4.12238242e-01,  1.80949439e+00],\n",
       "       [-8.43626769e+00,  6.09770718e+00],\n",
       "       [ 5.07935288e+00,  7.59426122e+00],\n",
       "       [-8.83186786e-01,  9.57908678e-01],\n",
       "       [-1.81480974e+00,  2.02831099e+00],\n",
       "       [-7.67561830e+00,  5.71094719e+00],\n",
       "       [-8.44564056e+00,  5.64055987e+00],\n",
       "       [ 4.93211949e+00,  6.99893593e+00],\n",
       "       [ 5.61909052e+00,  6.69716861e+00],\n",
       "       [ 5.19104145e+00, -4.70283072e+00],\n",
       "       [-4.31729539e-01, -6.74576059e-01],\n",
       "       [-2.40075700e+00,  6.80676042e-01],\n",
       "       [ 3.99838156e+00,  9.01109167e+00],\n",
       "       [ 8.31277051e+00, -3.50937968e+00],\n",
       "       [ 4.64743307e+00,  6.28096557e+00],\n",
       "       [ 5.26514198e+00,  7.94132441e+00],\n",
       "       [-1.78833246e+00, -2.08734021e-01],\n",
       "       [-9.53270099e-01,  5.57230578e-01],\n",
       "       [ 8.06252307e+00, -4.18289154e+00],\n",
       "       [-9.02701864e+00,  5.35393344e+00],\n",
       "       [-1.09333680e+00,  8.59538231e-01],\n",
       "       [ 3.97712146e+00,  7.18603931e+00],\n",
       "       [ 6.81966155e+00, -3.83444553e+00],\n",
       "       [ 7.54065283e+00, -3.03802300e+00],\n",
       "       [-7.57020442e+00,  6.17181675e+00],\n",
       "       [ 3.85263786e+00,  6.60032041e+00],\n",
       "       [-1.70035769e-01,  2.10299721e+00],\n",
       "       [-1.04954528e+01,  6.21812130e+00],\n",
       "       [ 6.69631611e+00, -4.11602983e+00],\n",
       "       [-9.12923023e+00,  4.36862167e+00],\n",
       "       [-2.41787141e+00, -3.26571771e-01],\n",
       "       [ 6.81576573e+00, -4.93223963e+00],\n",
       "       [ 5.02245342e+00,  7.08454934e+00],\n",
       "       [-1.12463158e+00,  1.99065836e+00],\n",
       "       [-7.87068678e+00,  5.23904495e+00],\n",
       "       [ 4.56092611e+00,  5.46069249e+00],\n",
       "       [-9.68064290e+00,  5.61019580e+00],\n",
       "       [-7.68723499e+00,  5.60053255e+00],\n",
       "       [-1.18792816e+00,  2.08531457e+00],\n",
       "       [-8.72652758e+00,  4.26332018e+00],\n",
       "       [-8.58356738e+00,  5.96294131e+00],\n",
       "       [ 6.58764208e+00,  6.22121951e+00],\n",
       "       [ 6.58952521e+00, -3.29672851e+00],\n",
       "       [-6.79742125e+00,  5.31394883e+00],\n",
       "       [ 7.58466887e+00, -3.96061278e+00],\n",
       "       [ 6.46291583e+00,  7.67136657e+00],\n",
       "       [ 5.11739185e+00,  6.93792147e+00],\n",
       "       [-8.41010036e-01,  3.09223296e-01],\n",
       "       [-6.49651446e-01,  5.95564448e-01],\n",
       "       [ 4.55451539e+00,  7.15576198e+00],\n",
       "       [-1.09479532e+00,  8.78320644e-01],\n",
       "       [ 6.44458834e+00, -4.54076801e+00],\n",
       "       [-1.04269327e+00,  1.06915617e+00],\n",
       "       [ 2.31937835e+00,  7.48682120e+00],\n",
       "       [ 4.08465424e+00,  7.02719280e+00],\n",
       "       [-1.01308715e+01,  5.47450017e+00],\n",
       "       [ 4.45114285e+00,  6.97703847e+00],\n",
       "       [-9.21082776e+00,  4.67729372e+00],\n",
       "       [ 6.82760008e+00, -4.14418610e+00],\n",
       "       [-8.13988700e+00,  6.09828785e+00],\n",
       "       [-2.63387374e-01, -1.00254021e+00],\n",
       "       [-8.71279637e+00,  4.96146226e+00],\n",
       "       [-3.27986984e-01,  7.77346781e-01],\n",
       "       [ 6.83431780e+00, -4.27229202e+00],\n",
       "       [ 3.50391326e+00,  6.41713293e+00],\n",
       "       [-8.04334916e+00,  4.63851384e+00],\n",
       "       [ 9.31611511e+00, -5.65065239e+00],\n",
       "       [-8.35995574e+00,  4.23528326e+00],\n",
       "       [ 6.00077842e+00, -4.70827261e+00],\n",
       "       [-6.49552666e-01,  6.33106574e-01],\n",
       "       [ 2.28065046e-01,  1.79439818e+00],\n",
       "       [-6.33121066e-01,  1.57853119e+00],\n",
       "       [ 7.39113243e+00, -3.35915670e+00],\n",
       "       [ 4.00893548e+00,  7.99509709e+00],\n",
       "       [ 5.31525459e+00,  7.68965409e+00],\n",
       "       [ 7.53811816e+00, -4.28921030e+00],\n",
       "       [ 4.07834286e+00,  7.87613283e+00],\n",
       "       [-7.30547987e+00,  5.42827566e+00],\n",
       "       [ 8.78026351e+00, -5.03024934e+00],\n",
       "       [ 3.23859617e+00,  6.75429016e+00],\n",
       "       [-1.36566249e+00,  1.75054295e-01],\n",
       "       [ 4.79775630e+00,  7.71860315e+00],\n",
       "       [-8.00582632e-01,  1.08317197e+00],\n",
       "       [ 7.89137336e+00, -4.80697903e+00],\n",
       "       [ 7.13979155e+00, -6.15049649e+00],\n",
       "       [ 4.75686889e+00,  6.69978215e+00],\n",
       "       [ 7.57479362e+00, -3.62346465e+00],\n",
       "       [ 4.90693997e+00,  6.83326867e+00],\n",
       "       [-1.84123067e+00,  1.23425247e+00],\n",
       "       [-8.44760430e+00,  4.24874802e+00],\n",
       "       [ 3.68053914e+00,  6.79732883e+00],\n",
       "       [ 5.03675761e+00,  7.42292955e+00],\n",
       "       [ 5.18448387e+00,  6.92906494e+00],\n",
       "       [ 7.84389930e+00, -3.63957567e+00],\n",
       "       [ 5.30863152e+00,  8.20129966e+00],\n",
       "       [-4.62196941e-01,  1.78286277e+00],\n",
       "       [ 3.89684395e+00,  8.87394184e+00],\n",
       "       [ 7.46978276e+00, -4.79706091e+00],\n",
       "       [-7.42777563e+00,  7.14428760e+00],\n",
       "       [-9.64700385e+00,  5.58144327e+00],\n",
       "       [ 7.88857774e+00, -3.59627314e+00],\n",
       "       [ 5.29828800e+00, -4.24378755e+00],\n",
       "       [-9.05442833e+00,  6.18489606e+00],\n",
       "       [-8.22044309e+00,  5.41594611e+00],\n",
       "       [ 1.99888545e-01,  1.41257310e+00],\n",
       "       [ 7.24493720e+00, -3.63692408e+00],\n",
       "       [ 6.05120106e+00,  6.91522513e+00],\n",
       "       [ 8.64429655e+00, -4.09872652e+00],\n",
       "       [-9.29489614e+00,  4.95711827e+00],\n",
       "       [-7.82094733e+00,  3.97103439e+00],\n",
       "       [ 7.47013706e+00, -3.76701264e+00],\n",
       "       [ 3.50525350e+00,  6.78418868e+00],\n",
       "       [ 7.05634672e+00, -3.22389993e+00],\n",
       "       [-1.02860254e+00,  2.70563951e-01],\n",
       "       [-1.93709679e+00,  1.36851711e+00],\n",
       "       [ 4.75419798e-01,  1.28811531e+00],\n",
       "       [-8.57303032e+00,  5.03393352e+00],\n",
       "       [-1.12226841e+00, -5.50479345e-01],\n",
       "       [ 5.66251123e+00,  8.07557176e+00],\n",
       "       [-8.72593535e+00,  5.31693542e+00],\n",
       "       [-8.64367931e+00,  5.05624060e+00],\n",
       "       [ 4.93051389e+00,  6.18061448e+00],\n",
       "       [-1.15695709e-01,  1.10116806e+00],\n",
       "       [ 8.58547969e+00, -4.34837638e+00],\n",
       "       [ 5.12099337e-01, -9.87797998e-02],\n",
       "       [ 6.63060004e+00, -4.68484195e+00],\n",
       "       [-7.99693002e+00,  5.21967140e+00],\n",
       "       [-6.59156134e+00,  4.74488652e+00],\n",
       "       [ 4.51387533e+00,  6.65003017e+00],\n",
       "       [ 4.66881448e+00,  8.07041308e+00],\n",
       "       [-1.23414162e+00,  1.78643427e+00],\n",
       "       [-1.58719269e+00,  4.13069270e-01],\n",
       "       [-7.59148758e+00,  5.45869154e+00],\n",
       "       [-1.00150188e+01,  3.66871376e+00],\n",
       "       [-1.81677777e+00,  2.08551449e+00],\n",
       "       [-1.55742817e+00, -4.86000399e-01],\n",
       "       [ 7.46228338e+00, -5.16807978e+00],\n",
       "       [-7.60633547e+00,  6.44933325e+00],\n",
       "       [-2.61249273e-01,  1.88719308e-01],\n",
       "       [ 7.56602042e+00, -3.81842337e+00],\n",
       "       [-7.54276820e+00,  3.92653443e+00],\n",
       "       [ 7.71471256e+00, -3.14535242e+00],\n",
       "       [ 6.90392423e+00, -3.96747354e+00],\n",
       "       [ 5.18666501e+00,  5.84715960e+00],\n",
       "       [-9.67384468e+00,  5.11949878e+00],\n",
       "       [-9.28334765e+00,  4.90975645e+00],\n",
       "       [-7.32568782e-02,  1.10890309e+00],\n",
       "       [-8.39703444e-02,  1.49338840e+00],\n",
       "       [-1.97521311e+00,  4.51077931e-01],\n",
       "       [ 7.54977519e+00, -5.01842077e+00],\n",
       "       [-1.81682173e+00,  1.52516430e+00],\n",
       "       [ 6.92344174e+00, -4.39098160e+00],\n",
       "       [-5.14001872e-01,  1.58360488e+00],\n",
       "       [ 5.85795475e+00,  6.45771645e+00],\n",
       "       [ 3.47265504e+00,  7.34932521e+00],\n",
       "       [ 6.46048787e+00, -3.90344823e+00],\n",
       "       [-6.66423708e-01,  1.49300887e+00],\n",
       "       [-5.01129294e-01, -2.71385483e-01],\n",
       "       [-1.21869730e+00,  6.77232948e-02],\n",
       "       [-9.44636567e-01,  2.21407485e+00],\n",
       "       [ 7.34928630e+00, -4.16386024e+00],\n",
       "       [-1.22106397e+00, -8.08164700e-01],\n",
       "       [-5.19864214e-01,  2.68770574e+00],\n",
       "       [ 4.56000857e+00,  7.21167097e+00],\n",
       "       [ 5.63651338e+00,  6.60230311e+00],\n",
       "       [-8.10628216e+00,  5.05557207e+00],\n",
       "       [-8.08395482e+00,  4.98333584e+00],\n",
       "       [ 7.42805455e+00, -4.61417404e+00],\n",
       "       [-1.57503204e+00,  7.52572259e-01],\n",
       "       [-9.86744099e+00,  5.09348117e+00],\n",
       "       [-1.00958128e+01,  3.81394655e+00],\n",
       "       [ 7.65368372e+00, -4.64570636e+00],\n",
       "       [ 7.81463925e+00, -5.57409355e+00],\n",
       "       [ 6.94910903e+00, -5.21796137e+00],\n",
       "       [ 5.87047461e+00, -4.89096229e+00],\n",
       "       [ 5.32056131e+00,  6.23737565e+00],\n",
       "       [ 6.75327689e+00, -3.68359569e+00],\n",
       "       [ 8.96980076e+00, -4.53075893e+00],\n",
       "       [ 4.75515778e+00,  6.92174662e+00],\n",
       "       [ 6.85764318e+00, -5.29471118e+00],\n",
       "       [-8.37288385e+00,  5.72929082e+00],\n",
       "       [ 7.06931032e+00, -5.07566556e+00],\n",
       "       [-3.26099639e-01,  1.69348147e+00],\n",
       "       [-9.28502327e+00,  5.61899570e+00],\n",
       "       [ 3.11065861e-01,  1.01512898e+00],\n",
       "       [ 5.80303318e+00,  7.19565800e+00],\n",
       "       [-1.60671580e+00,  3.34295152e-01],\n",
       "       [ 4.29357328e+00,  5.57249856e+00],\n",
       "       [-8.72444611e+00,  5.51625362e+00],\n",
       "       [ 4.47087856e+00, -4.15940882e+00],\n",
       "       [-8.66183405e+00,  3.82449512e+00],\n",
       "       [ 7.63614765e+00, -4.87680878e+00],\n",
       "       [-8.93193692e+00,  5.36324720e+00],\n",
       "       [-6.34145184e-01,  6.33375971e-01],\n",
       "       [-8.62017360e+00,  5.80982163e+00],\n",
       "       [-1.08812937e+00, -4.62102624e-01],\n",
       "       [ 9.18578475e+00, -4.12759237e+00],\n",
       "       [ 3.62795993e+00,  7.41209547e+00],\n",
       "       [ 7.31768721e+00, -3.14123963e+00],\n",
       "       [-8.06327422e+00,  5.54076034e+00],\n",
       "       [-7.37107750e+00,  6.24887719e+00],\n",
       "       [ 4.22239079e+00,  5.95098668e+00],\n",
       "       [-1.25916524e+00,  6.54664654e-01],\n",
       "       [-2.00558242e+00,  6.72307341e-01],\n",
       "       [ 5.05486385e+00,  5.42141714e+00],\n",
       "       [-9.68071246e+00,  5.77254014e+00],\n",
       "       [ 5.06253174e+00,  6.49083777e+00],\n",
       "       [-8.00812266e+00,  5.79305963e+00],\n",
       "       [ 5.31864139e-02,  9.51222324e-01],\n",
       "       [ 7.54056476e+00, -3.97783073e+00],\n",
       "       [-2.05618894e+00,  6.87733642e-01],\n",
       "       [ 4.79466047e+00,  7.32123845e+00],\n",
       "       [ 5.78063160e+00,  6.05017241e+00],\n",
       "       [ 5.73236956e+00,  7.98261432e+00],\n",
       "       [ 7.55073588e+00, -4.50641983e+00],\n",
       "       [ 6.79397321e+00, -3.66506264e+00],\n",
       "       [-8.73669422e+00,  7.35676272e+00],\n",
       "       [ 6.30986445e+00, -2.16698948e+00],\n",
       "       [-8.09167712e+00,  4.27119016e+00],\n",
       "       [ 4.99970290e+00,  6.57909806e+00],\n",
       "       [ 7.33247640e+00, -4.53797017e+00],\n",
       "       [-6.64548682e-01,  1.62128467e-01],\n",
       "       [ 4.46347656e+00,  7.12529689e+00],\n",
       "       [ 6.56926571e+00, -5.24982601e+00],\n",
       "       [ 4.08530872e+00,  6.29228464e+00],\n",
       "       [ 7.56408457e+00, -4.51043905e+00],\n",
       "       [-1.43685187e+00,  5.60686918e-01],\n",
       "       [-1.03685860e+01,  4.63320693e+00],\n",
       "       [-7.36031766e+00,  3.78828035e+00],\n",
       "       [ 9.73965983e-02,  4.38073744e-01],\n",
       "       [-7.97099455e+00,  6.21510408e+00],\n",
       "       [ 5.41645621e+00, -4.23434196e+00],\n",
       "       [-1.32171764e+00,  1.61994615e+00],\n",
       "       [ 7.49181169e+00, -4.32762196e+00],\n",
       "       [ 4.69813388e+00,  6.03185411e+00],\n",
       "       [-8.05567912e+00,  5.02387143e+00],\n",
       "       [ 5.32954521e+00,  7.85438206e+00],\n",
       "       [ 7.42158340e+00, -4.57582055e+00],\n",
       "       [ 4.24014752e+00,  6.85906417e+00],\n",
       "       [ 7.20663566e+00, -3.82526363e+00],\n",
       "       [-7.01471677e+00,  7.78671427e+00],\n",
       "       [-8.16333301e+00,  4.23528429e+00],\n",
       "       [-8.17663353e+00,  4.11003333e+00],\n",
       "       [-8.67003026e+00,  4.50132878e+00],\n",
       "       [ 4.41570583e+00,  7.13489672e+00],\n",
       "       [-9.36348723e+00,  5.54368384e+00],\n",
       "       [-1.29783823e+00,  1.36246472e+00],\n",
       "       [-8.70069246e+00,  6.54773858e+00],\n",
       "       [-9.29517607e+00,  4.19256200e+00],\n",
       "       [-3.52404505e-02,  8.26780423e-01],\n",
       "       [ 7.30038262e+00, -5.00713718e+00],\n",
       "       [-8.57714383e+00,  5.22517861e+00],\n",
       "       [ 4.19074827e+00,  5.78627217e+00],\n",
       "       [ 8.19388308e+00, -3.41498779e+00],\n",
       "       [-8.92076919e+00,  5.78348943e+00],\n",
       "       [ 4.52902309e+00,  7.42189920e+00],\n",
       "       [ 3.84362178e+00,  7.92033439e+00],\n",
       "       [-1.05948751e+00,  8.54119911e-01],\n",
       "       [ 8.06315620e+00, -5.21740582e+00],\n",
       "       [-9.56179337e+00,  4.41339479e+00],\n",
       "       [-1.66072850e-01,  1.37581169e+00],\n",
       "       [ 3.88849910e+00,  8.17355382e+00],\n",
       "       [-1.09068617e+00,  1.13194434e+00],\n",
       "       [ 8.78790884e+00, -4.55592960e+00],\n",
       "       [-8.70217064e-01,  3.41369471e-01],\n",
       "       [ 3.46824471e+00,  6.28692710e+00],\n",
       "       [ 6.61561773e+00, -4.50034314e+00],\n",
       "       [-1.02815231e+00,  7.28962610e-01],\n",
       "       [ 4.25530617e+00,  7.06567476e+00],\n",
       "       [-5.00160755e-01,  1.37662560e+00],\n",
       "       [-7.55903105e+00,  5.70211980e+00],\n",
       "       [ 7.50402997e+00, -3.42116666e+00],\n",
       "       [-9.07925757e+00,  4.97099393e+00],\n",
       "       [-9.40594900e+00,  5.00864211e+00],\n",
       "       [ 6.39888311e+00, -4.63205854e+00],\n",
       "       [-1.71644727e+00,  5.42194009e-03],\n",
       "       [ 1.92693705e-01,  1.88342488e+00],\n",
       "       [ 5.58667221e+00,  8.25156263e+00],\n",
       "       [-9.42999848e+00,  4.43274194e+00],\n",
       "       [-1.97248115e+00, -5.16492143e-01],\n",
       "       [ 3.65949393e+00,  5.52389333e+00],\n",
       "       [-1.02179093e+00,  1.65393579e+00],\n",
       "       [-1.55341078e+00, -7.56367953e-01],\n",
       "       [ 3.69200462e+00,  6.30059117e+00],\n",
       "       [ 5.39712051e+00,  6.97850761e+00],\n",
       "       [-8.02234351e+00,  4.24567751e+00],\n",
       "       [-8.12592155e+00,  4.31530554e+00],\n",
       "       [-4.32079368e-01,  4.29599724e-01],\n",
       "       [ 2.85303068e+00,  7.63198791e+00],\n",
       "       [ 4.40781877e+00,  7.59640443e+00],\n",
       "       [ 7.73482941e+00, -5.69922799e+00],\n",
       "       [-8.90959604e+00,  4.72815851e+00],\n",
       "       [ 4.10067869e+00,  6.51997570e+00],\n",
       "       [ 6.29263358e+00, -3.56236583e+00],\n",
       "       [ 3.16972209e+00,  6.02279256e+00],\n",
       "       [ 4.20465085e+00,  6.13454928e+00],\n",
       "       [-9.54686537e+00,  5.09383330e+00],\n",
       "       [ 9.03395587e+00, -4.76239789e+00],\n",
       "       [ 7.35380786e+00, -4.08684207e+00],\n",
       "       [-2.37345787e+00,  3.08242072e+00],\n",
       "       [ 5.48145658e-03,  1.05893047e+00],\n",
       "       [ 1.17145315e+00,  9.13324473e-01],\n",
       "       [ 6.12446144e+00, -3.78011674e+00],\n",
       "       [ 3.83003248e+00,  7.86771291e+00],\n",
       "       [-7.56326891e-01,  4.30300365e-01],\n",
       "       [ 6.35656437e+00,  8.21427893e+00],\n",
       "       [ 8.67048201e+00, -3.76037410e+00],\n",
       "       [-1.15383309e+00,  5.12650021e-01],\n",
       "       [ 7.13058643e+00, -3.74989428e+00],\n",
       "       [ 5.34029945e+00,  7.06985437e+00],\n",
       "       [-9.34202813e+00,  4.77427664e+00],\n",
       "       [ 7.94175990e+00, -4.33731091e+00],\n",
       "       [ 5.06773868e+00,  9.34914987e+00],\n",
       "       [ 6.98293988e+00, -4.43850865e+00],\n",
       "       [-9.68250608e+00,  6.01348610e+00],\n",
       "       [ 5.17615274e-01,  8.70807174e-01],\n",
       "       [ 4.41108147e+00,  6.66237416e+00],\n",
       "       [-8.61685770e+00,  4.04800263e+00],\n",
       "       [ 4.04491956e+00,  8.12442263e+00],\n",
       "       [ 4.22274760e+00,  7.05382924e+00],\n",
       "       [-1.45221907e+00,  5.34686704e-01],\n",
       "       [-8.49654192e+00,  4.79387712e+00],\n",
       "       [-9.64197822e+00,  5.14919429e+00],\n",
       "       [ 4.63407708e+00,  5.09436556e+00],\n",
       "       [-7.71951809e+00,  5.03906489e+00],\n",
       "       [ 3.73479446e+00,  6.58245772e+00],\n",
       "       [-8.14818442e+00,  4.90316392e+00],\n",
       "       [-9.20503369e-01,  1.44754108e-01],\n",
       "       [ 8.43650373e+00, -3.92976918e+00],\n",
       "       [ 6.89245614e+00, -3.35828820e+00],\n",
       "       [ 5.29706519e+00,  7.01728971e+00],\n",
       "       [ 3.45171489e+00,  6.71400942e+00],\n",
       "       [-7.88162134e+00,  3.66800960e+00]])"
      ]
     },
     "execution_count": 2,
     "metadata": {},
     "output_type": "execute_result"
    }
   ],
   "source": [
    "X"
   ]
  },
  {
   "cell_type": "code",
   "execution_count": null,
   "metadata": {},
   "outputs": [],
   "source": []
  },
  {
   "cell_type": "markdown",
   "metadata": {},
   "source": [
    "### Section 1 - Clustering and Initialization (20 points)"
   ]
  },
  {
   "cell_type": "markdown",
   "metadata": {},
   "source": [
    "<span style=\"color:blue\"> Consider the nine data points (A, B, C, D, E, F, G, H, I) in Fig. 1. Taking the points D, E, and F as the initial cluster centers, apply the K-Means algorithm on the data, with the number of clusters K = 3. (Note that it is easier to do this manually; you don't need to do it using code) At the end of each iteration, list the positions of the cluster centers, as well as the set of points belonging to each cluster. Do you think this clustering result is satisfactory? </span>"
   ]
  },
  {
   "cell_type": "code",
   "execution_count": 23,
   "metadata": {},
   "outputs": [],
   "source": [
    "from numpy import *\n",
    "import numpy as np\n",
    "import matplotlib.pyplot as plt\n",
    "from sklearn.cluster import KMeans\n",
    "\n",
    "\n",
    "def kmeans(dataSet, k,centroids):\n",
    "    sampleNum, col = dataSet.shape\n",
    "    cluster = mat(zeros((sampleNum, 2)))\n",
    "    centroids_random = zeros((k, col))\n",
    "#     for i in range(k):\n",
    "#         index = int(random.uniform(0, sampleNum))\n",
    "#         centroids[i, :] = dataSet[index, :]\n",
    "    print(centroids)\n",
    "    print(centroids_random)\n",
    "    clusterChanged = True\n",
    "    while clusterChanged:\n",
    "        clusterChanged = False\n",
    "        for i in range(sampleNum):\n",
    "            minDist = sqrt(sum(power(centroids[0, :] - dataSet[i, :], 2)))\n",
    "            minIndex = 0\n",
    "            for j in range(1,k):\n",
    "                distance = sqrt(sum(power(centroids[j, :] - dataSet[i, :], 2)))\n",
    "                if distance < minDist:\n",
    "                    minDist  = distance\n",
    "                    minIndex = j\n",
    "\n",
    "            if cluster[i, 0] != minIndex:\n",
    "                clusterChanged = True\n",
    "                cluster[i, :] = minIndex, minDist**2\n",
    "        for j in range(k):\n",
    "            pointsInCluster = dataSet[nonzero(cluster[:, 0].A == j)[0]]\n",
    "            centroids[j, :] = mean(pointsInCluster, axis = 0)\n",
    "\n",
    "    return centroids, cluster"
   ]
  },
  {
   "cell_type": "code",
   "execution_count": 24,
   "metadata": {},
   "outputs": [
    {
     "name": "stdout",
     "output_type": "stream",
     "text": [
      "[[ 0  1]\n",
      " [ 0  0]\n",
      " [ 0 -1]]\n",
      "[[0. 0.]\n",
      " [0. 0.]\n",
      " [0. 0.]]\n",
      "[[ 0.  0.]\n",
      " [ 0.  0.]\n",
      " [ 0.  0.]\n",
      " [ 1. 25.]\n",
      " [ 1.  0.]\n",
      " [ 1. 25.]\n",
      " [ 2. 25.]\n",
      " [ 2.  0.]\n",
      " [ 2. 25.]]\n"
     ]
    },
    {
     "data": {
      "image/png": "[encoded data removed]",
      "text/plain": [
       "<Figure size 432x288 with 1 Axes>"
      ]
     },
     "metadata": {
      "needs_background": "light"
     },
     "output_type": "display_data"
    }
   ],
   "source": [
    "dataSet = [ [-5,1],[0,1], [5,1],\n",
    "            [-5,0],[0,0], [5,0],\n",
    "            [-5,-1],[0,-1],[5,-1]]\n",
    "centroids=np.array([\n",
    "    [0,1],\n",
    "    [0,0],\n",
    "    [0,-1]\n",
    "])\n",
    "# centroids[0, :]\n",
    "dataSet = mat(dataSet)\n",
    "k = 3\n",
    "centroids, cluster = kmeans(dataSet, k,centroids)\n",
    "print(cluster)\n",
    "sampleNum, col = dataSet.shape\n",
    "mark = ['or', 'ob', 'og']\n",
    "\n",
    "for i in range(sampleNum):\n",
    "    markIndex = int(cluster[i, 0])\n",
    "    plt.plot(dataSet[i, 0], dataSet[i, 1], mark[markIndex])\n",
    "\n",
    "mark = ['+r', '+b', '+g']\n",
    "for i in range(k):\n",
    "    plt.plot(centroids[i, 0], centroids[i, 1], mark[i], markersize=12)\n",
    "\n",
    "plt.show()"
   ]
  },
  {
   "cell_type": "markdown",
   "metadata": {},
   "source": [
    "This is a markdown cell. Replace this cell with your answer."
   ]
  },
  {
   "cell_type": "markdown",
   "metadata": {},
   "source": [
    "<span style=\"color:blue\"> Initialization is important for K-means. Consider the following heuristic method for selecting the initial cluster center positions: <br><br>\n",
    "Choose the first center $c_1$ as the point A.<br>\n",
    "For $k=2,...,K$, set $c_k = \\underset{x\\in X}{\\arg\\max}(\\underset{i=1,...,k-1}{\\min}\\Vert x - c_i \\Vert_2)$, where X is the set of data points.<br><br>\n",
    "Apply this heuristic to the data points in Fig. 1. Show the computed cluster centers for K = 3. Next, run the K-means algorithm with the obtained cluster centers. At the end of each iteration, list the positions of the cluster centers, as well as the set of points belonging to each cluster.\n",
    "</span>"
   ]
  },
  {
   "cell_type": "markdown",
   "metadata": {},
   "source": [
    "This is a markdown cell. Replace this cell with your answer."
   ]
  },
  {
   "cell_type": "markdown",
   "metadata": {},
   "source": [
    "### Section 2 - Selecting the Number of Clusters (10 points)"
   ]
  },
  {
   "cell_type": "markdown",
   "metadata": {},
   "source": [
    "<span style=\"color:blue\"> Here, we will explore how to select the number of clusters. Using Python 3.6, load the attached data file 'assignment1.data' using the following commands:</span>\n",
    "    \n",
    "<span style=\"color:blue\">import joblib<br>X = joblib.load('assignment1.data')</span>\n",
    "\n",
    "<span style=\"color:blue\">This results in X, which is a 400 by 2 matrix, where each row is a single sample, in 2 dimensions. Apply K-means on these samples with K ranging from 1 to 10. Plot a figure, where the y-axis is the Within Cluster Sum of Squares (WCSS) after convergence, and the x-axis is K from 1 to 10: </span>\n",
    "\n",
    "<span style=\"color:blue\">$WCSS = \\sum_{k=1}^K \\sum_{x \\in C_i} \\Vert x - c_i \\Vert_2^2$</span>\n",
    "\n",
    "<span style=\"color:blue\">Select a value of K that you think is appropriate for clustering this dataset, and explain the reason. </span>"
   ]
  },
  {
   "cell_type": "code",
   "execution_count": 35,
   "metadata": {},
   "outputs": [],
   "source": [
    "# This is a code cell\n",
    "# -- Your code for running clustering and plotting the figure goes here."
   ]
  },
  {
   "cell_type": "markdown",
   "metadata": {},
   "source": [
    "This is a markdown cell. Replace this cell with your answer about the value of K, and the explanation."
   ]
  },
  {
   "cell_type": "markdown",
   "metadata": {},
   "source": [
    "### Section 3 - Data Cleaning and Exploration (20 points)"
   ]
  },
  {
   "cell_type": "markdown",
   "metadata": {},
   "source": [
    "<span style=\"color:blue\"> Please provide a description of each of the types of “dirty” records that you can find in the dataset, as well as the corresponding number of such records that are to be removed the dataset. Also, write down your code for removing those records. </span>"
   ]
  },
  {
   "cell_type": "markdown",
   "metadata": {},
   "source": [
    "This is a markdown cell. Replace this cell with your answer about \"dirty\" records. "
   ]
  },
  {
   "cell_type": "code",
   "execution_count": 6,
   "metadata": {},
   "outputs": [
    {
     "name": "stdout",
     "output_type": "stream",
     "text": [
      "       InvoiceNo StockCode                          Description  Quantity  \\\n",
      "0         536365    85123A   WHITE HANGING HEART T-LIGHT HOLDER         6   \n",
      "1         536365     71053                  WHITE METAL LANTERN         6   \n",
      "2         536365    84406B       CREAM CUPID HEARTS COAT HANGER         8   \n",
      "3         536365    84029G  KNITTED UNION FLAG HOT WATER BOTTLE         6   \n",
      "4         536365    84029E       RED WOOLLY HOTTIE WHITE HEART.         6   \n",
      "5         536365     22752         SET 7 BABUSHKA NESTING BOXES         2   \n",
      "6         536365     21730    GLASS STAR FROSTED T-LIGHT HOLDER         6   \n",
      "7         536366     22633               HAND WARMER UNION JACK         6   \n",
      "8         536366     22632            HAND WARMER RED POLKA DOT         6   \n",
      "9         536367     84879        ASSORTED COLOUR BIRD ORNAMENT        32   \n",
      "10        536367     22745           POPPY'S PLAYHOUSE BEDROOM          6   \n",
      "11        536367     22748            POPPY'S PLAYHOUSE KITCHEN         6   \n",
      "12        536367     22749    FELTCRAFT PRINCESS CHARLOTTE DOLL         8   \n",
      "13        536367     22310              IVORY KNITTED MUG COSY          6   \n",
      "14        536367     84969   BOX OF 6 ASSORTED COLOUR TEASPOONS         6   \n",
      "15        536367     22623        BOX OF VINTAGE JIGSAW BLOCKS          3   \n",
      "16        536367     22622       BOX OF VINTAGE ALPHABET BLOCKS         2   \n",
      "17        536367     21754             HOME BUILDING BLOCK WORD         3   \n",
      "18        536367     21755             LOVE BUILDING BLOCK WORD         3   \n",
      "19        536367     21777          RECIPE BOX WITH METAL HEART         4   \n",
      "20        536367     48187                  DOORMAT NEW ENGLAND         4   \n",
      "21        536368     22960             JAM MAKING SET WITH JARS         6   \n",
      "22        536368     22913          RED COAT RACK PARIS FASHION         3   \n",
      "23        536368     22912       YELLOW COAT RACK PARIS FASHION         3   \n",
      "24        536368     22914         BLUE COAT RACK PARIS FASHION         3   \n",
      "25        536369     21756             BATH BUILDING BLOCK WORD         3   \n",
      "26        536370     22728            ALARM CLOCK BAKELIKE PINK        24   \n",
      "27        536370     22727            ALARM CLOCK BAKELIKE RED         24   \n",
      "28        536370     22726           ALARM CLOCK BAKELIKE GREEN        12   \n",
      "29        536370     21724      PANDA AND BUNNIES STICKER SHEET        12   \n",
      "...          ...       ...                                  ...       ...   \n",
      "541879    581585     22726           ALARM CLOCK BAKELIKE GREEN         8   \n",
      "541880    581585     22727            ALARM CLOCK BAKELIKE RED          4   \n",
      "541881    581585     16016          LARGE CHINESE STYLE SCISSOR        10   \n",
      "541882    581585     21916      SET 12 RETRO WHITE CHALK STICKS        24   \n",
      "541883    581585     84692          BOX OF 24 COCKTAIL PARASOLS        25   \n",
      "541884    581585     84946         ANTIQUE SILVER T-LIGHT GLASS        12   \n",
      "541885    581585     21684     SMALL MEDINA STAMPED METAL BOWL         12   \n",
      "541886    581585     22398           MAGNETS PACK OF 4 SWALLOWS        12   \n",
      "541887    581585     23328   SET 6 SCHOOL MILK BOTTLES IN CRATE         4   \n",
      "541888    581585     23145       ZINC T-LIGHT HOLDER STAR LARGE        12   \n",
      "541889    581585     22466       FAIRY TALE COTTAGE NIGHT LIGHT        12   \n",
      "541890    581586     22061  LARGE CAKE STAND  HANGING STRAWBERY         8   \n",
      "541891    581586     23275     SET OF 3 HANGING OWLS OLLIE BEAK        24   \n",
      "541892    581586     21217        RED RETROSPOT ROUND CAKE TINS        24   \n",
      "541893    581586     20685                DOORMAT RED RETROSPOT        10   \n",
      "541894    581587     22631             CIRCUS PARADE LUNCH BOX         12   \n",
      "541895    581587     22556       PLASTERS IN TIN CIRCUS PARADE         12   \n",
      "541896    581587     22555            PLASTERS IN TIN STRONGMAN        12   \n",
      "541897    581587     22728            ALARM CLOCK BAKELIKE PINK         4   \n",
      "541898    581587     22727            ALARM CLOCK BAKELIKE RED          4   \n",
      "541899    581587     22726           ALARM CLOCK BAKELIKE GREEN         4   \n",
      "541900    581587     22730           ALARM CLOCK BAKELIKE IVORY         4   \n",
      "541901    581587     22367      CHILDRENS APRON SPACEBOY DESIGN         8   \n",
      "541902    581587     22629                  SPACEBOY LUNCH BOX         12   \n",
      "541903    581587     23256          CHILDRENS CUTLERY SPACEBOY          4   \n",
      "541904    581587     22613          PACK OF 20 SPACEBOY NAPKINS        12   \n",
      "541905    581587     22899         CHILDREN'S APRON DOLLY GIRL          6   \n",
      "541906    581587     23254        CHILDRENS CUTLERY DOLLY GIRL          4   \n",
      "541907    581587     23255      CHILDRENS CUTLERY CIRCUS PARADE         4   \n",
      "541908    581587     22138        BAKING SET 9 PIECE RETROSPOT          3   \n",
      "\n",
      "                InvoiceDate  UnitPrice  CustomerID  \n",
      "0       2010-12-01 08:26:00       2.55     17850.0  \n",
      "1       2010-12-01 08:26:00       3.39     17850.0  \n",
      "2       2010-12-01 08:26:00       2.75     17850.0  \n",
      "3       2010-12-01 08:26:00       3.39     17850.0  \n",
      "4       2010-12-01 08:26:00       3.39     17850.0  \n",
      "5       2010-12-01 08:26:00       7.65     17850.0  \n",
      "6       2010-12-01 08:26:00       4.25     17850.0  \n",
      "7       2010-12-01 08:28:00       1.85     17850.0  \n",
      "8       2010-12-01 08:28:00       1.85     17850.0  \n",
      "9       2010-12-01 08:34:00       1.69     13047.0  \n",
      "10      2010-12-01 08:34:00       2.10     13047.0  \n",
      "11      2010-12-01 08:34:00       2.10     13047.0  \n",
      "12      2010-12-01 08:34:00       3.75     13047.0  \n",
      "13      2010-12-01 08:34:00       1.65     13047.0  \n",
      "14      2010-12-01 08:34:00       4.25     13047.0  \n",
      "15      2010-12-01 08:34:00       4.95     13047.0  \n",
      "16      2010-12-01 08:34:00       9.95     13047.0  \n",
      "17      2010-12-01 08:34:00       5.95     13047.0  \n",
      "18      2010-12-01 08:34:00       5.95     13047.0  \n",
      "19      2010-12-01 08:34:00       7.95     13047.0  \n",
      "20      2010-12-01 08:34:00       7.95     13047.0  \n",
      "21      2010-12-01 08:34:00       4.25     13047.0  \n",
      "22      2010-12-01 08:34:00       4.95     13047.0  \n",
      "23      2010-12-01 08:34:00       4.95     13047.0  \n",
      "24      2010-12-01 08:34:00       4.95     13047.0  \n",
      "25      2010-12-01 08:35:00       5.95     13047.0  \n",
      "26      2010-12-01 08:45:00       3.75     12583.0  \n",
      "27      2010-12-01 08:45:00       3.75     12583.0  \n",
      "28      2010-12-01 08:45:00       3.75     12583.0  \n",
      "29      2010-12-01 08:45:00       0.85     12583.0  \n",
      "...                     ...        ...         ...  \n",
      "541879  2011-12-09 12:31:00       3.75     15804.0  \n",
      "541880  2011-12-09 12:31:00       3.75     15804.0  \n",
      "541881  2011-12-09 12:31:00       0.85     15804.0  \n",
      "541882  2011-12-09 12:31:00       0.42     15804.0  \n",
      "541883  2011-12-09 12:31:00       0.42     15804.0  \n",
      "541884  2011-12-09 12:31:00       1.25     15804.0  \n",
      "541885  2011-12-09 12:31:00       0.85     15804.0  \n",
      "541886  2011-12-09 12:31:00       0.39     15804.0  \n",
      "541887  2011-12-09 12:31:00       3.75     15804.0  \n",
      "541888  2011-12-09 12:31:00       0.95     15804.0  \n",
      "541889  2011-12-09 12:31:00       1.95     15804.0  \n",
      "541890  2011-12-09 12:49:00       2.95     13113.0  \n",
      "541891  2011-12-09 12:49:00       1.25     13113.0  \n",
      "541892  2011-12-09 12:49:00       8.95     13113.0  \n",
      "541893  2011-12-09 12:49:00       7.08     13113.0  \n",
      "541894  2011-12-09 12:50:00       1.95     12680.0  \n",
      "541895  2011-12-09 12:50:00       1.65     12680.0  \n",
      "541896  2011-12-09 12:50:00       1.65     12680.0  \n",
      "541897  2011-12-09 12:50:00       3.75     12680.0  \n",
      "541898  2011-12-09 12:50:00       3.75     12680.0  \n",
      "541899  2011-12-09 12:50:00       3.75     12680.0  \n",
      "541900  2011-12-09 12:50:00       3.75     12680.0  \n",
      "541901  2011-12-09 12:50:00       1.95     12680.0  \n",
      "541902  2011-12-09 12:50:00       1.95     12680.0  \n",
      "541903  2011-12-09 12:50:00       4.15     12680.0  \n",
      "541904  2011-12-09 12:50:00       0.85     12680.0  \n",
      "541905  2011-12-09 12:50:00       2.10     12680.0  \n",
      "541906  2011-12-09 12:50:00       4.15     12680.0  \n",
      "541907  2011-12-09 12:50:00       4.15     12680.0  \n",
      "541908  2011-12-09 12:50:00       4.95     12680.0  \n",
      "\n",
      "[541909 rows x 7 columns]\n"
     ]
    }
   ],
   "source": [
    "# This is a code cell\n",
    "# -- Your code for removing dirty records goes here --\n",
    "\n",
    "print(record)\n",
    "# record.InvoiceNo.duplicated()\n",
    "# record.InvoiceNo.drop_duplicats()\n",
    "# print(record)\n",
    "\n",
    "\n",
    "\n"
   ]
  },
  {
   "cell_type": "markdown",
   "metadata": {},
   "source": [
    "<span style=\"color:blue\"> 1)~8) Please provide the answers to the questions listed in the table. </span>"
   ]
  },
  {
   "cell_type": "markdown",
   "metadata": {},
   "source": [
    "This is a markdown cell. Please fill in your answer for (1)~(8).\n",
    "\n",
    "| No. | Question                                                                                                   | Answer       |\n",
    "|-----|------------------------------------------------------------------------------------------------------------|--------------|\n",
    "| 1)  | Starting date of the dataset?                                                                              | _YourAnswer_ |\n",
    "| 2)  | Ending date of the dataset?                                                                                | _YourAnswer_ |\n",
    "| 3)  | Number of customers?                                                                                       | _YourAnswer_ |\n",
    "| 4)  | Number of transactions?                                                                                    | _YourAnswer_ |\n",
    "| 5)  | Number of different kind of items?                                                                         | _YourAnswer_ |\n",
    "| 6)  | Number of transactions customer ID 17850 has made?                                                         | _YourAnswer_ |\n",
    "| 7)  | Which customer (ID) has made the most transactions?                                                        | _YourAnswer_ |\n",
    "| 8)  | What is the item ID of the best-seller? We define \"best-seller\" as the item with the highest sales volume. | _YourAnswer_ |"
   ]
  },
  {
   "cell_type": "markdown",
   "metadata": {},
   "source": [
    "<span style=\"color:blue\"> 9) Next, let us get some general understanding about the transactions.  Please make a histogram of the number of unique items per transaction and describe one insight that you can observe from the plot, and explain why you find it interesting.  </span>"
   ]
  },
  {
   "cell_type": "code",
   "execution_count": 36,
   "metadata": {},
   "outputs": [],
   "source": [
    "# This is a code cell\n",
    "# --- Your code for generating the histogram goes here ---"
   ]
  },
  {
   "cell_type": "markdown",
   "metadata": {},
   "source": [
    "This is a markdown cell. Replace this cell with your insights and reasons for (9)."
   ]
  },
  {
   "cell_type": "markdown",
   "metadata": {},
   "source": [
    "#### Section 4 - Mining Association Rules"
   ]
  },
  {
   "cell_type": "markdown",
   "metadata": {},
   "source": [
    "<span style=\"color:blue\"> 1) Will we complete the counting before the sun burns out (the sun has another $ 5 \\times 10^9 < 2^{33} $ years to burn)? </span>"
   ]
  },
  {
   "cell_type": "markdown",
   "metadata": {},
   "source": [
    "This is a markdown cell. Replace this cell with your answer and reasons for (1)."
   ]
  },
  {
   "cell_type": "markdown",
   "metadata": {},
   "source": [
    "<span style=\"color:blue\"> 2) Run efficient-apriori in python with min_support=0.5%, min_confidence=20%, max_length=4. Write down the rule with the highest lift (denoted as $r_1$). </span>"
   ]
  },
  {
   "cell_type": "code",
   "execution_count": 38,
   "metadata": {},
   "outputs": [],
   "source": [
    "# This is a code cell\n",
    "# --- Your code for apriori algorithm goes here ---"
   ]
  },
  {
   "cell_type": "markdown",
   "metadata": {},
   "source": [
    "This is a markdown cell. Replace this cell with the rule you find for (2)."
   ]
  },
  {
   "cell_type": "markdown",
   "metadata": {},
   "source": [
    "<span style=\"color:blue\"> 3) Run efficient-apriori in python with min_support=1%, min_confidence=20%, max_length=4. Write down the rule with the highest lift (denoted as $r_2$). </span>"
   ]
  },
  {
   "cell_type": "code",
   "execution_count": 39,
   "metadata": {},
   "outputs": [],
   "source": [
    "# This is a code cell\n",
    "# --- Your code for apriori algorithm goes here ---"
   ]
  },
  {
   "cell_type": "markdown",
   "metadata": {},
   "source": [
    "This is a markdown cell. Replace this cell with the rule you find for (3)."
   ]
  },
  {
   "cell_type": "markdown",
   "metadata": {},
   "source": [
    "<span style=\"color:blue\"> 4) Run efficient-apriori in python with min_support=0.5%, min_confidence=40%, max_length=4. Write down the rule with the highest lift (denoted as $r_3$). </span>"
   ]
  },
  {
   "cell_type": "code",
   "execution_count": 40,
   "metadata": {},
   "outputs": [],
   "source": [
    "# This is a code cell\n",
    "# --- Your code for apriori algorithm goes here ---"
   ]
  },
  {
   "cell_type": "markdown",
   "metadata": {},
   "source": [
    "This is a markdown cell. Replace this cell with the rule you find for (4)."
   ]
  },
  {
   "cell_type": "markdown",
   "metadata": {},
   "source": [
    "<span style=\"color:blue\"> 5) You must have noticed numerous differences between the two runs in (2) and (3). List at least 3 differences you’ve found. You may want to consider the elapsed time and the quality of the results.  </span>"
   ]
  },
  {
   "cell_type": "markdown",
   "metadata": {},
   "source": [
    "This is a markdown cell. Replace this cell with the differences you find in (5)."
   ]
  },
  {
   "cell_type": "markdown",
   "metadata": {},
   "source": [
    "<span style=\"color:blue\"> 6) Which one in $r_1$,$r_2$, and $r_3$ do you think is better? Explain your answer. </span>"
   ]
  },
  {
   "cell_type": "markdown",
   "metadata": {},
   "source": [
    "This is a markdown cell. Replace this cell with your answer and reasons for (6)."
   ]
  },
  {
   "cell_type": "markdown",
   "metadata": {},
   "source": [
    "<span style=\"color:blue\"> 7) From your observation, what are the effects of increasing/reducing min_support and min_confidence? Support your answer with evidence. </span>"
   ]
  },
  {
   "cell_type": "markdown",
   "metadata": {},
   "source": [
    "This is a markdown cell. Replace this cell with your answer and evidences for (7)."
   ]
  }
 ],
 "metadata": {
  "kernelspec": {
   "display_name": "Python 3",
   "language": "python",
   "name": "python3"
  },
  "language_info": {
   "codemirror_mode": {
    "name": "ipython",
    "version": 3
   },
   "file_extension": ".py",
   "mimetype": "text/x-python",
   "name": "python",
   "nbconvert_exporter": "python",
   "pygments_lexer": "ipython3",
   "version": "3.7.3"
  }
 },
 "nbformat": 4,
 "nbformat_minor": 2
}
